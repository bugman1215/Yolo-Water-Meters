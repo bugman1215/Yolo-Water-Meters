{
 "cells": [
  {
   "cell_type": "code",
   "execution_count": 13,
   "metadata": {},
   "outputs": [],
   "source": [
    "import pandas as pd\n",
    "import numpy as np\n",
    "import ast"
   ]
  },
  {
   "cell_type": "code",
   "execution_count": 183,
   "metadata": {},
   "outputs": [],
   "source": [
    "df = pd.read_csv(\"data.tsv\", sep='\\t')"
   ]
  },
  {
   "cell_type": "code",
   "execution_count": 184,
   "metadata": {},
   "outputs": [],
   "source": [
    "df['photo_name'] = df['photo_name'].apply(lambda x: x.split(\".\", 1)[0])"
   ]
  },
  {
   "cell_type": "code",
   "execution_count": 43,
   "metadata": {},
   "outputs": [],
   "source": [
    "dfpos = df[\"location\"].astype('str').copy(deep=True)\n",
    "dfpos = dfpos.apply(lambda x: ast.literal_eval(x))\n",
    "dfpos = dfpos.apply(pd.Series)"
   ]
  },
  {
   "cell_type": "code",
   "execution_count": null,
   "metadata": {},
   "outputs": [],
   "source": [
    "def mask_points():\n",
    "    "
   ]
  },
  {
   "cell_type": "code",
   "execution_count": 133,
   "metadata": {},
   "outputs": [],
   "source": [
    "from collections import defaultdict\n",
    "\n",
    "new_dict = {}\n",
    "for i,l in enumerate(dfpos[\"data\"]):\n",
    "    res = defaultdict(list)\n",
    "    {res[key].append(sub[key]) for sub in l for key in sub} \n",
    "    new_dict[i] = dict(res)"
   ]
  },
  {
   "cell_type": "code",
   "execution_count": 151,
   "metadata": {},
   "outputs": [],
   "source": [
    "d = {}\n",
    "for k,v in new_dict.items():\n",
    "    d[k] = {i:[min(b), max(b)] for i,b in v.items()}"
   ]
  },
  {
   "cell_type": "code",
   "execution_count": 172,
   "metadata": {},
   "outputs": [],
   "source": [
    "f = {}\n",
    "for k,v in d.items():\n",
    "    p = {}\n",
    "    p[\"class\"] = 0\n",
    "    p[\"x\"] =  (max(v[\"x\"]) + min(v[\"x\"]))/2 \n",
    "    p[\"y\"] =  (max(v[\"y\"]) + min(v[\"y\"]))/2 \n",
    "    p[\"weight\"] = (max(v[\"x\"]) - min(v[\"x\"])) + 1\n",
    "    p[\"height\"] = (max(v[\"y\"]) - min(v[\"y\"])) + 1\n",
    "    f[k] = p"
   ]
  },
  {
   "cell_type": "code",
   "execution_count": 173,
   "metadata": {},
   "outputs": [],
   "source": [
    "finaldf =  pd.DataFrame.from_dict(f, orient='index')\n"
   ]
  },
  {
   "cell_type": "code",
   "execution_count": 190,
   "metadata": {},
   "outputs": [],
   "source": [
    "i =0 \n",
    "for row in finaldf.values: \n",
    "    file_title = './labels/{}.txt'.format(df[\"photo_name\"][i]) \n",
    "    row.tofile(file_title, sep=\" \", format=\"%s\") \n",
    "    i+=1 "
   ]
  },
  {
   "cell_type": "code",
   "execution_count": 187,
   "metadata": {},
   "outputs": [
    {
     "data": {
      "text/plain": [
       "'id_53_value_595_825'"
      ]
     },
     "execution_count": 187,
     "metadata": {},
     "output_type": "execute_result"
    }
   ],
   "source": [
    "df[\"photo_name\"][0]"
   ]
  }
 ],
 "metadata": {
  "kernelspec": {
   "display_name": "Python 3",
   "language": "python",
   "name": "python3"
  },
  "language_info": {
   "codemirror_mode": {
    "name": "ipython",
    "version": 3
   },
   "file_extension": ".py",
   "mimetype": "text/x-python",
   "name": "python",
   "nbconvert_exporter": "python",
   "pygments_lexer": "ipython3",
   "version": "3.8.5"
  }
 },
 "nbformat": 4,
 "nbformat_minor": 4
}
